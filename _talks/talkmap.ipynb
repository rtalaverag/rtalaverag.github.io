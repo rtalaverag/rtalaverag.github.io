{
 "cells": [
  {
   "cell_type": "markdown",
   "metadata": {},
   "source": [
    "# Leaflet cluster map of talk locations\n",
    "\n",
    "Run this from the _talks/ directory, which contains .md files of all your talks. This scrapes the location YAML field from each .md file, geolocates it with geopy/Nominatim, and uses the getorg library to output data, HTML, and Javascript for a standalone cluster map."
   ]
  },
  {
   "cell_type": "code",
   "execution_count": 1,
   "metadata": {
    "collapsed": false,
    "jupyter": {
     "outputs_hidden": false
    }
   },
   "outputs": [
    {
     "name": "stdout",
     "output_type": "stream",
     "text": [
      "Requirement already satisfied: getorg in /home/tgis7/anaconda3/envs/geo/lib/python3.11/site-packages (0.3.1)\n",
      "Requirement already satisfied: geopy in /home/tgis7/anaconda3/envs/geo/lib/python3.11/site-packages (from getorg) (2.4.1)\n",
      "Requirement already satisfied: pygithub in /home/tgis7/anaconda3/envs/geo/lib/python3.11/site-packages (from getorg) (2.5.0)\n",
      "Requirement already satisfied: retrying in /home/tgis7/anaconda3/envs/geo/lib/python3.11/site-packages (from getorg) (1.3.4)\n",
      "Requirement already satisfied: geographiclib<3,>=1.52 in /home/tgis7/anaconda3/envs/geo/lib/python3.11/site-packages (from geopy->getorg) (2.0)\n",
      "Requirement already satisfied: pynacl>=1.4.0 in /home/tgis7/anaconda3/envs/geo/lib/python3.11/site-packages (from pygithub->getorg) (1.5.0)\n",
      "Requirement already satisfied: requests>=2.14.0 in /home/tgis7/anaconda3/envs/geo/lib/python3.11/site-packages (from pygithub->getorg) (2.32.2)\n",
      "Requirement already satisfied: pyjwt>=2.4.0 in /home/tgis7/anaconda3/envs/geo/lib/python3.11/site-packages (from pyjwt[crypto]>=2.4.0->pygithub->getorg) (2.10.1)\n",
      "Requirement already satisfied: typing-extensions>=4.0.0 in /home/tgis7/anaconda3/envs/geo/lib/python3.11/site-packages (from pygithub->getorg) (4.11.0)\n",
      "Requirement already satisfied: urllib3>=1.26.0 in /home/tgis7/anaconda3/envs/geo/lib/python3.11/site-packages (from pygithub->getorg) (1.26.19)\n",
      "Requirement already satisfied: Deprecated in /home/tgis7/anaconda3/envs/geo/lib/python3.11/site-packages (from pygithub->getorg) (1.2.15)\n",
      "Requirement already satisfied: six>=1.7.0 in /home/tgis7/anaconda3/envs/geo/lib/python3.11/site-packages (from retrying->getorg) (1.16.0)\n",
      "Requirement already satisfied: cryptography>=3.4.0 in /home/tgis7/anaconda3/envs/geo/lib/python3.11/site-packages (from pyjwt[crypto]>=2.4.0->pygithub->getorg) (42.0.5)\n",
      "Requirement already satisfied: cffi>=1.4.1 in /home/tgis7/anaconda3/envs/geo/lib/python3.11/site-packages (from pynacl>=1.4.0->pygithub->getorg) (1.16.0)\n",
      "Requirement already satisfied: charset-normalizer<4,>=2 in /home/tgis7/anaconda3/envs/geo/lib/python3.11/site-packages (from requests>=2.14.0->pygithub->getorg) (2.0.4)\n",
      "Requirement already satisfied: idna<4,>=2.5 in /home/tgis7/anaconda3/envs/geo/lib/python3.11/site-packages (from requests>=2.14.0->pygithub->getorg) (3.7)\n",
      "Requirement already satisfied: certifi>=2017.4.17 in /home/tgis7/anaconda3/envs/geo/lib/python3.11/site-packages (from requests>=2.14.0->pygithub->getorg) (2024.8.30)\n",
      "Requirement already satisfied: wrapt<2,>=1.10 in /home/tgis7/anaconda3/envs/geo/lib/python3.11/site-packages (from Deprecated->pygithub->getorg) (1.17.0)\n",
      "Requirement already satisfied: pycparser in /home/tgis7/anaconda3/envs/geo/lib/python3.11/site-packages (from cffi>=1.4.1->pynacl>=1.4.0->pygithub->getorg) (2.21)\n",
      "Iywidgets and ipyleaflet support disabled. You must be in a Jupyter notebook to use this feature.\n",
      "Error raised:\n",
      "No module named 'ipywidgets'\n",
      "Check that you have enabled ipyleaflet in Jupyter with:\n",
      "    jupyter nbextension enable --py ipyleaflet\n"
     ]
    }
   ],
   "source": [
    "!pip install getorg --upgrade\n",
    "import glob\n",
    "import getorg\n",
    "from geopy import Nominatim"
   ]
  },
  {
   "cell_type": "code",
   "execution_count": 2,
   "metadata": {
    "collapsed": false,
    "jupyter": {
     "outputs_hidden": false
    }
   },
   "outputs": [],
   "source": [
    "g = glob.glob(\"*.md\")"
   ]
  },
  {
   "cell_type": "code",
   "execution_count": 3,
   "metadata": {},
   "outputs": [],
   "source": [
    "geocoder = Nominatim(user_agent=\"location-finder\")\n",
    "location_dict = {}\n",
    "location = \"\"\n",
    "permalink = \"\"\n",
    "title = \"\""
   ]
  },
  {
   "cell_type": "code",
   "execution_count": 4,
   "metadata": {
    "collapsed": false,
    "jupyter": {
     "outputs_hidden": false
    }
   },
   "outputs": [
    {
     "name": "stdout",
     "output_type": "stream",
     "text": [
      "Madrid, Spain \n",
      " Madrid, Comunidad de Madrid, España\n",
      "Liverpool, United Kingdom \n",
      " Liverpool, Liverpool City Region, England, United Kingdom\n",
      "Porto, Portugal \n",
      " Porto, Portugal\n",
      "Lisbon, Portugal \n",
      " Lisboa, Portugal\n",
      "Santiago de Chile, Chile \n",
      " Santiago, Provincia de Santiago, Región Metropolitana de Santiago, Chile\n",
      "San Francisco, California \n",
      " San Francisco, California, United States\n",
      "Berkeley CA, USA \n",
      " Berkeley, Alameda County, California, United States\n",
      "Dublin, Ireland \n",
      " Dublin, County Dublin, Leinster, Éire / Ireland\n",
      "London, UK \n",
      " London, Greater London, England, United Kingdom\n",
      "Los Angeles, CA \n",
      " Los Angeles, Los Angeles County, California, United States\n",
      "Granada, Spain \n",
      " Granada, Comarca de la Vega de Granada, Granada, Andalucía, España\n",
      "Madrid, Spain \n",
      " Madrid, Comunidad de Madrid, España\n",
      "Madrid, Spain \n",
      " Madrid, Comunidad de Madrid, España\n",
      "Madrid, Spain \n",
      " Madrid, Comunidad de Madrid, España\n",
      "Madrid, Spain \n",
      " Madrid, Comunidad de Madrid, España\n",
      "Madrid, Spain \n",
      " Madrid, Comunidad de Madrid, España\n",
      "Zaragoza, Spain \n",
      " Zaragoza, Aragón, España\n",
      "Madrid, Spain \n",
      " Madrid, Comunidad de Madrid, España\n",
      "Cáceres, Spain \n",
      " Cáceres, Extremadura, España\n",
      "Coimbra, Portugal \n",
      " Coimbra, Portugal\n",
      "Santa Fe de la Veracruz, Argentina \n",
      " Hostal Santa Fe de la Veracruz, 2954, San Martín, Ex-Plaza España, Santa Fe, Santa Fe Capital, Departamento La Capital, Santa Fe, S3000, Argentina\n",
      "Santa Fe de la Veracruz, Argentina \n",
      " Hostal Santa Fe de la Veracruz, 2954, San Martín, Ex-Plaza España, Santa Fe, Santa Fe Capital, Departamento La Capital, Santa Fe, S3000, Argentina\n",
      "Palma de Mallorca, España  \n",
      " Palma, Illes Balears, España\n"
     ]
    }
   ],
   "source": [
    "\n",
    "for file in g:\n",
    "    with open(file, 'r') as f:\n",
    "        lines = f.read()\n",
    "        if lines.find('location: \"') > 1:\n",
    "            loc_start = lines.find('location: \"') + 11\n",
    "            lines_trim = lines[loc_start:]\n",
    "            loc_end = lines_trim.find('\"')\n",
    "            location = lines_trim[:loc_end]\n",
    "                            \n",
    "           \n",
    "        location_dict[location] = geocoder.geocode(location)\n",
    "        print(location, \"\\n\", location_dict[location])\n"
   ]
  },
  {
   "cell_type": "code",
   "execution_count": 5,
   "metadata": {
    "collapsed": false,
    "jupyter": {
     "outputs_hidden": false
    }
   },
   "outputs": [
    {
     "data": {
      "text/plain": [
       "'Written map to ../talkmap/'"
      ]
     },
     "execution_count": 5,
     "metadata": {},
     "output_type": "execute_result"
    }
   ],
   "source": [
    "m = getorg.orgmap.create_map_obj()\n",
    "getorg.orgmap.output_html_cluster_map(location_dict, folder_name=\"../talkmap\", hashed_usernames=False)"
   ]
  },
  {
   "cell_type": "code",
   "execution_count": null,
   "metadata": {},
   "outputs": [],
   "source": []
  }
 ],
 "metadata": {
  "anaconda-cloud": {},
  "kernelspec": {
   "display_name": "geo",
   "language": "python",
   "name": "python3"
  },
  "language_info": {
   "codemirror_mode": {
    "name": "ipython",
    "version": 3
   },
   "file_extension": ".py",
   "mimetype": "text/x-python",
   "name": "python",
   "nbconvert_exporter": "python",
   "pygments_lexer": "ipython3",
   "version": "3.11.9"
  }
 },
 "nbformat": 4,
 "nbformat_minor": 4
}
